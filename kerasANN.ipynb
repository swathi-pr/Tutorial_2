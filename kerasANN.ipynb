{
  "nbformat": 4,
  "nbformat_minor": 0,
  "metadata": {
    "colab": {
      "name": "kerasANN.ipynb",
      "version": "0.3.2",
      "provenance": [],
      "collapsed_sections": []
    },
    "kernelspec": {
      "name": "python3",
      "display_name": "Python 3"
    }
  },
  "cells": [
    {
      "cell_type": "markdown",
      "metadata": {
        "id": "ViEDqudGaRbN",
        "colab_type": "text"
      },
      "source": [
        "#Simple ANN using keras\n",
        "\n",
        "*   Sequential creates a sequence of layers\n",
        "*   Dense creates a fully connected network\n",
        "\n"
      ]
    },
    {
      "cell_type": "code",
      "metadata": {
        "id": "18SppJESY164",
        "colab_type": "code",
        "outputId": "c3fe8178-806e-4a36-b0ee-a14ba0c480ca",
        "colab": {
          "base_uri": "https://localhost:8080/",
          "height": 34
        }
      },
      "source": [
        "from keras.models import Sequential\n",
        "from keras.layers import Dense\n",
        "import numpy as np"
      ],
      "execution_count": 0,
      "outputs": [
        {
          "output_type": "stream",
          "text": [
            "Using TensorFlow backend.\n"
          ],
          "name": "stderr"
        }
      ]
    },
    {
      "cell_type": "code",
      "metadata": {
        "id": "htL0FMcibjl1",
        "colab_type": "code",
        "colab": {}
      },
      "source": [
        "from sklearn.datasets import load_iris\n",
        "from sklearn.preprocessing import StandardScaler,OneHotEncoder\n",
        "from sklearn.model_selection import train_test_split"
      ],
      "execution_count": 0,
      "outputs": []
    },
    {
      "cell_type": "code",
      "metadata": {
        "id": "h3JVDDX8bsYx",
        "colab_type": "code",
        "colab": {}
      },
      "source": [
        "iris = load_iris()"
      ],
      "execution_count": 0,
      "outputs": []
    },
    {
      "cell_type": "code",
      "metadata": {
        "id": "xeTriLTObwgn",
        "colab_type": "code",
        "outputId": "27bc31ec-14aa-4c21-880e-8446493678f4",
        "colab": {
          "base_uri": "https://localhost:8080/",
          "height": 52
        }
      },
      "source": [
        "print(iris.feature_names)\n",
        "print(iris.target_names)\n",
        "#print(iris.DESCR)\n",
        "#print(iris.data)"
      ],
      "execution_count": 0,
      "outputs": [
        {
          "output_type": "stream",
          "text": [
            "['sepal length (cm)', 'sepal width (cm)', 'petal length (cm)', 'petal width (cm)']\n",
            "['setosa' 'versicolor' 'virginica']\n"
          ],
          "name": "stdout"
        }
      ]
    },
    {
      "cell_type": "code",
      "metadata": {
        "id": "HM0EDqI7dBy-",
        "colab_type": "code",
        "colab": {}
      },
      "source": [
        "input_data = iris.data"
      ],
      "execution_count": 0,
      "outputs": []
    },
    {
      "cell_type": "code",
      "metadata": {
        "id": "qA4eQ2z4cPW8",
        "colab_type": "code",
        "colab": {}
      },
      "source": [
        "target_class = iris.target\n",
        "#iris['target']"
      ],
      "execution_count": 0,
      "outputs": []
    },
    {
      "cell_type": "markdown",
      "metadata": {
        "id": "YdMc0Va9ebEr",
        "colab_type": "text"
      },
      "source": [
        "###Use z-score normalization to convert data with mean 0 and variance 1"
      ]
    },
    {
      "cell_type": "code",
      "metadata": {
        "id": "x57GIpKJdSS-",
        "colab_type": "code",
        "colab": {}
      },
      "source": [
        "scaler = StandardScaler()\n",
        "input_scaled = scaler.fit_transform(input_data)"
      ],
      "execution_count": 0,
      "outputs": []
    },
    {
      "cell_type": "code",
      "metadata": {
        "id": "fpKTaV2lmJ61",
        "colab_type": "code",
        "outputId": "616ff568-0d49-40f6-a1ea-b77e98763901",
        "colab": {
          "base_uri": "https://localhost:8080/",
          "height": 107
        }
      },
      "source": [
        "# One hot encoding\n",
        "enc = OneHotEncoder()\n",
        "hot_target_class = enc.fit_transform(target_class[:, np.newaxis]).toarray()"
      ],
      "execution_count": 0,
      "outputs": [
        {
          "output_type": "stream",
          "text": [
            "/usr/local/lib/python3.6/dist-packages/sklearn/preprocessing/_encoders.py:415: FutureWarning: The handling of integer data will change in version 0.22. Currently, the categories are determined based on the range [0, max(values)], while in the future they will be determined based on the unique values.\n",
            "If you want the future behaviour and silence this warning, you can specify \"categories='auto'\".\n",
            "In case you used a LabelEncoder before this OneHotEncoder to convert the categories to integers, then you can now use the OneHotEncoder directly.\n",
            "  warnings.warn(msg, FutureWarning)\n"
          ],
          "name": "stderr"
        }
      ]
    },
    {
      "cell_type": "markdown",
      "metadata": {
        "id": "tq7XYLCaeUHl",
        "colab_type": "text"
      },
      "source": [
        "###Split into training and testing data"
      ]
    },
    {
      "cell_type": "code",
      "metadata": {
        "id": "KLRqJfAdeg4d",
        "colab_type": "code",
        "colab": {}
      },
      "source": [
        "x_train,x_test,y_train,y_test = train_test_split(input_scaled,hot_target_class,test_size=0.3)\n",
        "#x_train\n",
        "#x_test"
      ],
      "execution_count": 0,
      "outputs": []
    },
    {
      "cell_type": "markdown",
      "metadata": {
        "id": "AVY3C-jEgwYC",
        "colab_type": "text"
      },
      "source": [
        "###Create model"
      ]
    },
    {
      "cell_type": "code",
      "metadata": {
        "id": "csEvoq30ZZbB",
        "colab_type": "code",
        "outputId": "3fb9fcab-69f7-4400-88bf-98591e947d29",
        "colab": {
          "base_uri": "https://localhost:8080/",
          "height": 90
        }
      },
      "source": [
        "model = Sequential()"
      ],
      "execution_count": 0,
      "outputs": [
        {
          "output_type": "stream",
          "text": [
            "WARNING: Logging before flag parsing goes to stderr.\n",
            "W0807 14:13:10.338676 140236929054592 deprecation_wrapper.py:119] From /usr/local/lib/python3.6/dist-packages/keras/backend/tensorflow_backend.py:74: The name tf.get_default_graph is deprecated. Please use tf.compat.v1.get_default_graph instead.\n",
            "\n"
          ],
          "name": "stderr"
        }
      ]
    },
    {
      "cell_type": "markdown",
      "metadata": {
        "id": "SGe3Spzzaq7j",
        "colab_type": "text"
      },
      "source": [
        "###Can add any number of layers using model.add\n",
        "\n",
        "\n",
        "*   Compulsorily the first add function must have the parameter input_dim\n",
        "*   Default activation is linear function\n",
        "\n"
      ]
    },
    {
      "cell_type": "code",
      "metadata": {
        "id": "NHWkWPaPZfGP",
        "colab_type": "code",
        "outputId": "d34238cf-0cdf-4c43-c9c8-d4f80630a823",
        "colab": {
          "base_uri": "https://localhost:8080/",
          "height": 107
        }
      },
      "source": [
        "h1 = model.add(Dense(6,activation=\"relu\",input_dim=4))\n",
        "h2=model.add(Dense(5,activation=\"relu\"))\n",
        "h3=model.add(Dense(7,activation=\"relu\"))\n",
        "o = model.add(Dense(3,activation=\"softmax\"))\n",
        "\n"
      ],
      "execution_count": 0,
      "outputs": [
        {
          "output_type": "stream",
          "text": [
            "W0807 14:13:10.371145 140236929054592 deprecation_wrapper.py:119] From /usr/local/lib/python3.6/dist-packages/keras/backend/tensorflow_backend.py:517: The name tf.placeholder is deprecated. Please use tf.compat.v1.placeholder instead.\n",
            "\n",
            "W0807 14:13:10.382346 140236929054592 deprecation_wrapper.py:119] From /usr/local/lib/python3.6/dist-packages/keras/backend/tensorflow_backend.py:4138: The name tf.random_uniform is deprecated. Please use tf.random.uniform instead.\n",
            "\n"
          ],
          "name": "stderr"
        }
      ]
    },
    {
      "cell_type": "code",
      "metadata": {
        "id": "wopEmikabAz9",
        "colab_type": "code",
        "colab": {}
      },
      "source": [
        "###Compile model"
      ],
      "execution_count": 0,
      "outputs": []
    },
    {
      "cell_type": "code",
      "metadata": {
        "id": "EznBdyTqg4dj",
        "colab_type": "code",
        "outputId": "c2d00772-d422-451b-8ce6-45376d6858bc",
        "colab": {
          "base_uri": "https://localhost:8080/",
          "height": 107
        }
      },
      "source": [
        "model.compile(loss=\"categorical_crossentropy\",optimizer=\"Adam\",metrics=['accuracy'])"
      ],
      "execution_count": 0,
      "outputs": [
        {
          "output_type": "stream",
          "text": [
            "W0807 14:13:10.471198 140236929054592 deprecation_wrapper.py:119] From /usr/local/lib/python3.6/dist-packages/keras/optimizers.py:790: The name tf.train.Optimizer is deprecated. Please use tf.compat.v1.train.Optimizer instead.\n",
            "\n",
            "W0807 14:13:10.515261 140236929054592 deprecation_wrapper.py:119] From /usr/local/lib/python3.6/dist-packages/keras/backend/tensorflow_backend.py:3295: The name tf.log is deprecated. Please use tf.math.log instead.\n",
            "\n"
          ],
          "name": "stderr"
        }
      ]
    },
    {
      "cell_type": "code",
      "metadata": {
        "id": "9_fOn5emhQnS",
        "colab_type": "code",
        "outputId": "08d32e24-0eeb-4b99-ab90-74188d933aa2",
        "colab": {
          "base_uri": "https://localhost:8080/",
          "height": 281
        }
      },
      "source": [
        "model.summary()"
      ],
      "execution_count": 0,
      "outputs": [
        {
          "output_type": "stream",
          "text": [
            "_________________________________________________________________\n",
            "Layer (type)                 Output Shape              Param #   \n",
            "=================================================================\n",
            "dense_1 (Dense)              (None, 6)                 30        \n",
            "_________________________________________________________________\n",
            "dense_2 (Dense)              (None, 5)                 35        \n",
            "_________________________________________________________________\n",
            "dense_3 (Dense)              (None, 7)                 42        \n",
            "_________________________________________________________________\n",
            "dense_4 (Dense)              (None, 3)                 24        \n",
            "=================================================================\n",
            "Total params: 131\n",
            "Trainable params: 131\n",
            "Non-trainable params: 0\n",
            "_________________________________________________________________\n"
          ],
          "name": "stdout"
        }
      ]
    },
    {
      "cell_type": "markdown",
      "metadata": {
        "id": "LjOAs9liiLLt",
        "colab_type": "text"
      },
      "source": [
        "###Fit model\n",
        "\n",
        "*   Epoch - how many passes through the training dataset\n",
        "*   Batch - how many samples to consider before updating the weights\n",
        "\n"
      ]
    },
    {
      "cell_type": "code",
      "metadata": {
        "id": "Rgx38Bluifd2",
        "colab_type": "code",
        "outputId": "4406477a-eb3d-4088-88a8-ea4f54c6d56a",
        "colab": {
          "base_uri": "https://localhost:8080/",
          "height": 142
        }
      },
      "source": [
        "model.fit(x_train,y_train,batch_size=10,epochs=50)"
      ],
      "execution_count": 0,
      "outputs": [
        {
          "output_type": "stream",
          "text": [
            "W0807 14:13:10.698689 140236929054592 deprecation.py:323] From /usr/local/lib/python3.6/dist-packages/tensorflow/python/ops/math_grad.py:1250: add_dispatch_support.<locals>.wrapper (from tensorflow.python.ops.array_ops) is deprecated and will be removed in a future version.\n",
            "Instructions for updating:\n",
            "Use tf.where in 2.0, which has the same broadcast rule as np.where\n",
            "W0807 14:13:10.772389 140236929054592 deprecation_wrapper.py:119] From /usr/local/lib/python3.6/dist-packages/keras/backend/tensorflow_backend.py:986: The name tf.assign_add is deprecated. Please use tf.compat.v1.assign_add instead.\n",
            "\n"
          ],
          "name": "stderr"
        },
        {
          "output_type": "stream",
          "text": [
            "Epoch 1/50\n"
          ],
          "name": "stdout"
        }
      ]
    },
    {
      "cell_type": "code",
      "metadata": {
        "id": "Q5LjdqvPjThF",
        "colab_type": "code",
        "colab": {}
      },
      "source": [
        " score = model.evaluate(x_test,y_test, verbose=0)\n",
        " print('Test loss:', score[0])\n",
        " print('Test accuracy:', score[1])"
      ],
      "execution_count": 0,
      "outputs": []
    },
    {
      "cell_type": "code",
      "metadata": {
        "id": "x_pAG7IFnnqv",
        "colab_type": "code",
        "colab": {}
      },
      "source": [
        ""
      ],
      "execution_count": 0,
      "outputs": []
    }
  ]
}