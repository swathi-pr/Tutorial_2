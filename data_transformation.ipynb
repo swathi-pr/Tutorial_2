{
 "cells": [
  {
   "cell_type": "code",
   "execution_count": 5,
   "metadata": {},
   "outputs": [],
   "source": [
    "from sklearn.linear_model import LinearRegression\n",
    "import pandas as pd\n",
    "df = pd.read_csv(\"Z:\\\\7th sem\\\\dataanalytics\\\\traffic-collision.csv\")\n"
   ]
  },
  {
   "cell_type": "code",
   "execution_count": 6,
   "metadata": {},
   "outputs": [
    {
     "data": {
      "text/plain": [
       "DR Number                            False\n",
       "Date Reported                        False\n",
       "Date Occurred                        False\n",
       "Time_Occurred                        False\n",
       "Area_ID                              False\n",
       "Area Name                            False\n",
       "Reporting District                   False\n",
       "Crime Code                           False\n",
       "Crime Code Description               False\n",
       "MO Codes                              True\n",
       "Victim_Age                            True\n",
       "Victim Sex                            True\n",
       "Victim Descent                        True\n",
       "Premise Code                          True\n",
       "Premise Description                   True\n",
       "Address                              False\n",
       "Cross Street                          True\n",
       "Location                             False\n",
       "Zip Codes                             True\n",
       "Census Tracts                         True\n",
       "Precinct Boundaries                   True\n",
       "LA Specific Plans                     True\n",
       "Council Districts                     True\n",
       "Neighborhood Councils (Certified)     True\n",
       "dtype: bool"
      ]
     },
     "execution_count": 6,
     "metadata": {},
     "output_type": "execute_result"
    }
   ],
   "source": [
    "df.isnull().any()\n"
   ]
  },
  {
   "cell_type": "code",
   "execution_count": 7,
   "metadata": {},
   "outputs": [
    {
     "data": {
      "text/plain": [
       "(475227, 24)"
      ]
     },
     "execution_count": 7,
     "metadata": {},
     "output_type": "execute_result"
    }
   ],
   "source": [
    "df.fillna(value=0,axis=1,inplace=True)\n",
    "df.shape"
   ]
  },
  {
   "cell_type": "code",
   "execution_count": 8,
   "metadata": {},
   "outputs": [
    {
     "data": {
      "text/html": [
       "<div>\n",
       "<style scoped>\n",
       "    .dataframe tbody tr th:only-of-type {\n",
       "        vertical-align: middle;\n",
       "    }\n",
       "\n",
       "    .dataframe tbody tr th {\n",
       "        vertical-align: top;\n",
       "    }\n",
       "\n",
       "    .dataframe thead th {\n",
       "        text-align: right;\n",
       "    }\n",
       "</style>\n",
       "<table border=\"1\" class=\"dataframe\">\n",
       "  <thead>\n",
       "    <tr style=\"text-align: right;\">\n",
       "      <th></th>\n",
       "      <th>DR Number</th>\n",
       "      <th>Date Reported</th>\n",
       "      <th>Date Occurred</th>\n",
       "      <th>Time_Occurred</th>\n",
       "      <th>Area_ID</th>\n",
       "      <th>Area Name</th>\n",
       "      <th>Reporting District</th>\n",
       "      <th>Crime Code</th>\n",
       "      <th>Crime Code Description</th>\n",
       "      <th>MO Codes</th>\n",
       "      <th>...</th>\n",
       "      <th>Premise Description</th>\n",
       "      <th>Address</th>\n",
       "      <th>Cross Street</th>\n",
       "      <th>Location</th>\n",
       "      <th>Zip Codes</th>\n",
       "      <th>Census Tracts</th>\n",
       "      <th>Precinct Boundaries</th>\n",
       "      <th>LA Specific Plans</th>\n",
       "      <th>Council Districts</th>\n",
       "      <th>Neighborhood Councils (Certified)</th>\n",
       "    </tr>\n",
       "  </thead>\n",
       "  <tbody>\n",
       "    <tr>\n",
       "      <th>343730</th>\n",
       "      <td>180121726</td>\n",
       "      <td>2018-08-19T00:00:00.000</td>\n",
       "      <td>2018-08-19T00:00:00.000</td>\n",
       "      <td>1800</td>\n",
       "      <td>1</td>\n",
       "      <td>Central</td>\n",
       "      <td>192</td>\n",
       "      <td>997</td>\n",
       "      <td>TRAFFIC COLLISION</td>\n",
       "      <td>3101 3401 3701 3006 3030 3032</td>\n",
       "      <td>...</td>\n",
       "      <td>STREET</td>\n",
       "      <td>S  FIGUEROA                     ST</td>\n",
       "      <td>PICO                         BL</td>\n",
       "      <td>{'human_address': '{\"address\": \"\", \"city\": \"\",...</td>\n",
       "      <td>23076.0</td>\n",
       "      <td>546.0</td>\n",
       "      <td>1227.0</td>\n",
       "      <td>34.0</td>\n",
       "      <td>13.0</td>\n",
       "      <td>76.0</td>\n",
       "    </tr>\n",
       "    <tr>\n",
       "      <th>223239</th>\n",
       "      <td>110816038</td>\n",
       "      <td>2011-09-26T00:00:00.000</td>\n",
       "      <td>2011-09-26T00:00:00.000</td>\n",
       "      <td>1400</td>\n",
       "      <td>8</td>\n",
       "      <td>West LA</td>\n",
       "      <td>881</td>\n",
       "      <td>997</td>\n",
       "      <td>TRAFFIC COLLISION</td>\n",
       "      <td>0</td>\n",
       "      <td>...</td>\n",
       "      <td>STREET</td>\n",
       "      <td>BUNDY                        DR</td>\n",
       "      <td>TENNESSEE                    PL</td>\n",
       "      <td>{'human_address': '{\"address\": \"\", \"city\": \"\",...</td>\n",
       "      <td>24029.0</td>\n",
       "      <td>867.0</td>\n",
       "      <td>1128.0</td>\n",
       "      <td>9.0</td>\n",
       "      <td>10.0</td>\n",
       "      <td>50.0</td>\n",
       "    </tr>\n",
       "    <tr>\n",
       "      <th>98561</th>\n",
       "      <td>121708366</td>\n",
       "      <td>2012-03-19T00:00:00.000</td>\n",
       "      <td>2012-03-19T00:00:00.000</td>\n",
       "      <td>830</td>\n",
       "      <td>17</td>\n",
       "      <td>Devonshire</td>\n",
       "      <td>1701</td>\n",
       "      <td>997</td>\n",
       "      <td>TRAFFIC COLLISION</td>\n",
       "      <td>3011 3034 3037 3401 3701 3104 3101</td>\n",
       "      <td>...</td>\n",
       "      <td>STREET</td>\n",
       "      <td>SORRENTO                     LN</td>\n",
       "      <td>MASON                        AV</td>\n",
       "      <td>{'human_address': '{\"address\": \"\", \"city\": \"\",...</td>\n",
       "      <td>18905.0</td>\n",
       "      <td>66.0</td>\n",
       "      <td>909.0</td>\n",
       "      <td>14.0</td>\n",
       "      <td>2.0</td>\n",
       "      <td>48.0</td>\n",
       "    </tr>\n",
       "    <tr>\n",
       "      <th>108881</th>\n",
       "      <td>171321600</td>\n",
       "      <td>2017-10-05T00:00:00.000</td>\n",
       "      <td>2017-10-05T00:00:00.000</td>\n",
       "      <td>900</td>\n",
       "      <td>13</td>\n",
       "      <td>Newton</td>\n",
       "      <td>1372</td>\n",
       "      <td>997</td>\n",
       "      <td>TRAFFIC COLLISION</td>\n",
       "      <td>3101 3401 3701 3006 3030</td>\n",
       "      <td>...</td>\n",
       "      <td>STREET</td>\n",
       "      <td>SAN PEDRO                    ST</td>\n",
       "      <td>56TH                         ST</td>\n",
       "      <td>{'human_address': '{\"address\": \"\", \"city\": \"\",...</td>\n",
       "      <td>22727.0</td>\n",
       "      <td>725.0</td>\n",
       "      <td>895.0</td>\n",
       "      <td>7.0</td>\n",
       "      <td>13.0</td>\n",
       "      <td>0.0</td>\n",
       "    </tr>\n",
       "    <tr>\n",
       "      <th>293339</th>\n",
       "      <td>110614662</td>\n",
       "      <td>2011-06-01T00:00:00.000</td>\n",
       "      <td>2011-06-01T00:00:00.000</td>\n",
       "      <td>1620</td>\n",
       "      <td>6</td>\n",
       "      <td>Hollywood</td>\n",
       "      <td>666</td>\n",
       "      <td>997</td>\n",
       "      <td>TRAFFIC COLLISION</td>\n",
       "      <td>0</td>\n",
       "      <td>...</td>\n",
       "      <td>STREET</td>\n",
       "      <td>SUNSET</td>\n",
       "      <td>EL CENTRO</td>\n",
       "      <td>{'human_address': '{\"address\": \"\", \"city\": \"\",...</td>\n",
       "      <td>23446.0</td>\n",
       "      <td>423.0</td>\n",
       "      <td>539.0</td>\n",
       "      <td>0.0</td>\n",
       "      <td>8.0</td>\n",
       "      <td>57.0</td>\n",
       "    </tr>\n",
       "  </tbody>\n",
       "</table>\n",
       "<p>5 rows × 24 columns</p>\n",
       "</div>"
      ],
      "text/plain": [
       "        DR Number            Date Reported            Date Occurred  \\\n",
       "343730  180121726  2018-08-19T00:00:00.000  2018-08-19T00:00:00.000   \n",
       "223239  110816038  2011-09-26T00:00:00.000  2011-09-26T00:00:00.000   \n",
       "98561   121708366  2012-03-19T00:00:00.000  2012-03-19T00:00:00.000   \n",
       "108881  171321600  2017-10-05T00:00:00.000  2017-10-05T00:00:00.000   \n",
       "293339  110614662  2011-06-01T00:00:00.000  2011-06-01T00:00:00.000   \n",
       "\n",
       "        Time_Occurred  Area_ID   Area Name  Reporting District  Crime Code  \\\n",
       "343730           1800        1     Central                 192         997   \n",
       "223239           1400        8     West LA                 881         997   \n",
       "98561             830       17  Devonshire                1701         997   \n",
       "108881            900       13      Newton                1372         997   \n",
       "293339           1620        6   Hollywood                 666         997   \n",
       "\n",
       "       Crime Code Description                            MO Codes  \\\n",
       "343730      TRAFFIC COLLISION       3101 3401 3701 3006 3030 3032   \n",
       "223239      TRAFFIC COLLISION                                   0   \n",
       "98561       TRAFFIC COLLISION  3011 3034 3037 3401 3701 3104 3101   \n",
       "108881      TRAFFIC COLLISION            3101 3401 3701 3006 3030   \n",
       "293339      TRAFFIC COLLISION                                   0   \n",
       "\n",
       "                      ...                  Premise Description  \\\n",
       "343730                ...                               STREET   \n",
       "223239                ...                               STREET   \n",
       "98561                 ...                               STREET   \n",
       "108881                ...                               STREET   \n",
       "293339                ...                               STREET   \n",
       "\n",
       "                                   Address                     Cross Street  \\\n",
       "343730  S  FIGUEROA                     ST  PICO                         BL   \n",
       "223239     BUNDY                        DR  TENNESSEE                    PL   \n",
       "98561      SORRENTO                     LN  MASON                        AV   \n",
       "108881     SAN PEDRO                    ST  56TH                         ST   \n",
       "293339                              SUNSET                        EL CENTRO   \n",
       "\n",
       "                                                 Location Zip Codes  \\\n",
       "343730  {'human_address': '{\"address\": \"\", \"city\": \"\",...   23076.0   \n",
       "223239  {'human_address': '{\"address\": \"\", \"city\": \"\",...   24029.0   \n",
       "98561   {'human_address': '{\"address\": \"\", \"city\": \"\",...   18905.0   \n",
       "108881  {'human_address': '{\"address\": \"\", \"city\": \"\",...   22727.0   \n",
       "293339  {'human_address': '{\"address\": \"\", \"city\": \"\",...   23446.0   \n",
       "\n",
       "       Census Tracts Precinct Boundaries LA Specific Plans  Council Districts  \\\n",
       "343730         546.0              1227.0              34.0               13.0   \n",
       "223239         867.0              1128.0               9.0               10.0   \n",
       "98561           66.0               909.0              14.0                2.0   \n",
       "108881         725.0               895.0               7.0               13.0   \n",
       "293339         423.0               539.0               0.0                8.0   \n",
       "\n",
       "        Neighborhood Councils (Certified)  \n",
       "343730                               76.0  \n",
       "223239                               50.0  \n",
       "98561                                48.0  \n",
       "108881                                0.0  \n",
       "293339                               57.0  \n",
       "\n",
       "[5 rows x 24 columns]"
      ]
     },
     "execution_count": 8,
     "metadata": {},
     "output_type": "execute_result"
    }
   ],
   "source": [
    "from sklearn.model_selection import train_test_split \n",
    "train, test = train_test_split(df,test_size=0.30)\n",
    "train.head()"
   ]
  },
  {
   "cell_type": "code",
   "execution_count": 17,
   "metadata": {},
   "outputs": [],
   "source": [
    "from sklearn.linear_model import LogisticRegression\n",
    "#Fill the training and test data with require information\n",
    "X_train = train['Precinct Boundaries'].dropna().values.reshape((-1, 1))\n",
    "y_train = train['LA Specific Plans'].dropna()\n",
    "X_test = test['Precinct Boundaries'].dropna().values.reshape((-1, 1))\n",
    "y_test = test['LA Specific Plans'].dropna()"
   ]
  },
  {
   "cell_type": "code",
   "execution_count": 18,
   "metadata": {},
   "outputs": [
    {
     "data": {
      "text/plain": [
       "LinearRegression(copy_X=True, fit_intercept=True, n_jobs=1, normalize=False)"
      ]
     },
     "execution_count": 18,
     "metadata": {},
     "output_type": "execute_result"
    }
   ],
   "source": [
    "from sklearn import linear_model# compute classification accuracy for the linear regression model\n",
    "from sklearn import metrics # for the check the error and accuracy of the model\n",
    "lin = linear_model.LinearRegression()\n",
    "# train the model on the training set\n",
    "lin.fit(X_train, y_train)"
   ]
  },
  {
   "cell_type": "code",
   "execution_count": 19,
   "metadata": {},
   "outputs": [
    {
     "name": "stdout",
     "output_type": "stream",
     "text": [
      "Training score:  0.009857740466346021\n",
      "Testing score:  0.009485121839789447\n"
     ]
    }
   ],
   "source": [
    "lin_score_train = lin.score(X_test, y_test)\n",
    "lin_score_test = lin.score(X_train, y_train)\n",
    "print(\"Training score: \",lin_score_train)\n",
    "print(\"Testing score: \",lin_score_test)"
   ]
  },
  {
   "cell_type": "code",
   "execution_count": 20,
   "metadata": {},
   "outputs": [
    {
     "data": {
      "image/png": "[encoded data removed]",
      "text/plain": [
       "<Figure size 432x288 with 1 Axes>"
      ]
     },
     "metadata": {},
     "output_type": "display_data"
    }
   ],
   "source": [
    "import matplotlib.pyplot as plt\n",
    "predictions = lin.predict(X_test)\n",
    "\n",
    "plt.scatter(y_test,predictions)\n",
    "plt.xlabel(\"trial\")\n",
    "plt.ylabel(\"stated\")\n",
    "plt.show()"
   ]
  },
  {
   "cell_type": "code",
   "execution_count": null,
   "metadata": {},
   "outputs": [],
   "source": []
  }
 ],
 "metadata": {
  "kernelspec": {
   "display_name": "Python 3",
   "language": "python",
   "name": "python3"
  },
  "language_info": {
   "codemirror_mode": {
    "name": "ipython",
    "version": 3
   },
   "file_extension": ".py",
   "mimetype": "text/x-python",
   "name": "python",
   "nbconvert_exporter": "python",
   "pygments_lexer": "ipython3",
   "version": "3.6.5"
  }
 },
 "nbformat": 4,
 "nbformat_minor": 2
}
